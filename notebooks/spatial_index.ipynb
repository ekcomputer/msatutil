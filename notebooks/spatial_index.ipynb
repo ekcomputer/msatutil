{
 "cells": [
  {
   "cell_type": "code",
   "execution_count": 1,
   "metadata": {},
   "outputs": [],
   "source": [
    "import os\n",
    "from msatutil.make_spatial_index import save_geojson"
   ]
  },
  {
   "cell_type": "markdown",
   "metadata": {},
   "source": [
    "## Arguments"
   ]
  },
  {
   "cell_type": "code",
   "execution_count": 2,
   "metadata": {},
   "outputs": [],
   "source": [
    "## Testing locally\n",
    "L3_mosaics_catalogue_pth = 'gs://msat-dev-science-data/L3_mosaics.csv'\n",
    "load_from_chkpt = True\n",
    "simplify_tol = None\n",
    "working_dir = '/Volumes/metis/MAIR/Spatial_catalogue'  # '~/msat_spatial_idx'\n",
    "save_frequency = 3 # for testingload_from_chkpt=True\n",
    "out_path = 'test_march_19'\n",
    "l2_data=False\n"
   ]
  },
  {
   "cell_type": "code",
   "execution_count": 3,
   "metadata": {},
   "outputs": [],
   "source": [
    "## Testing on cloud with L2 products\n",
    "L3_mosaics_catalogue_pth = 'gs://msat-dev-science-data/L2_pp.csv'\n",
    "load_from_chkpt = True\n",
    "simplify_tol = 0.01 \n",
    "working_dir = '~/msat_spatial_idx' #'/mnt/share1/mair_spatial_idx' # '/Volumes/metis/MAIR/Spatial_catalogue'  # \n",
    "save_frequency = 3 # for testingload_from_chkpt=True\n",
    "out_path = None #'test_march_19'\n",
    "l2_data=True"
   ]
  },
  {
   "cell_type": "markdown",
   "metadata": {},
   "source": [
    "Demo calling the function in python"
   ]
  },
  {
   "cell_type": "code",
   "execution_count": 4,
   "metadata": {},
   "outputs": [
    {
     "name": "stdout",
     "output_type": "stream",
     "text": [
      "[475] gs://msat-prod-data-methaneair-level2/MAIR-E/2022/10/25/RF01E/cr7-cr13/level2/5x1/post-processed/level2-results/MethaneAIR_L2_post_20221025T205008_20221025T205038_20230308T192848.nc\n",
      "[476] gs://msat-prod-data-methaneair-level2/MAIR-E/2022/10/25/RF01E/po-309/level2/5x1/post-processed/level2-results/MethaneAIR_L2_post_20221025T161210_20221025T161240_newl1b.nc\n",
      "[477] gs://msat-prod-data-methaneair-level2/MAIR-E/2022/10/25/RF01E/po-309/level2/5x1/post-processed/level2-results/MethaneAIR_L2_post_20221025T161311_20221025T161341_newl1b.nc\n",
      "\t> Saving checkpoint.\n"
     ]
    },
    {
     "name": "stderr",
     "output_type": "stream",
     "text": [
      "/home/ext_ethan_kyzivat_g_harvard_edu/scripts/msatutil/msatutil/make_spatial_index.py:287: UserWarning: Column names longer than 10 characters will be truncated when saved to ESRI Shapefile.\n",
      "  gdf.to_file(catalogue_shp_out_pth, engine=engine)\n",
      "/home/ext_ethan_kyzivat_g_harvard_edu/Y/envs/geo/lib/python3.11/site-packages/pyogrio/raw.py:530: RuntimeWarning: Normalized/laundered field name: 'production_environment' to 'production'\n",
      "  ogr_write(\n",
      "/home/ext_ethan_kyzivat_g_harvard_edu/Y/envs/geo/lib/python3.11/site-packages/pyogrio/raw.py:530: RuntimeWarning: Normalized/laundered field name: 'flight_date' to 'flight_dat'\n",
      "  ogr_write(\n",
      "/home/ext_ethan_kyzivat_g_harvard_edu/Y/envs/geo/lib/python3.11/site-packages/pyogrio/raw.py:530: RuntimeWarning: Normalized/laundered field name: 'flight_name' to 'flight_nam'\n",
      "  ogr_write(\n",
      "/home/ext_ethan_kyzivat_g_harvard_edu/Y/envs/geo/lib/python3.11/site-packages/pyogrio/raw.py:530: RuntimeWarning: Normalized/laundered field name: 'production_operation' to 'producti_1'\n",
      "  ogr_write(\n",
      "/home/ext_ethan_kyzivat_g_harvard_edu/Y/envs/geo/lib/python3.11/site-packages/pyogrio/raw.py:530: RuntimeWarning: Normalized/laundered field name: 'aggregation' to 'aggregatio'\n",
      "  ogr_write(\n"
     ]
    },
    {
     "name": "stdout",
     "output_type": "stream",
     "text": [
      "[478] gs://msat-prod-data-methaneair-level2/MAIR-E/2022/10/25/RF01E/po-309/level2/5x1/post-processed/level2-results/MethaneAIR_L2_post_20221025T161341_20221025T161411_newl1b.nc\n",
      "[479] gs://msat-prod-data-methaneair-level2/MAIR-E/2022/10/25/RF01E/po-309/level2/5x1/post-processed/level2-results/MethaneAIR_L2_post_20221025T161411_20221025T161441_newl1b.nc\n",
      "[480] gs://msat-prod-data-methaneair-level2/MAIR-E/2022/10/25/RF01E/po-309/level2/5x1/post-processed/level2-results/MethaneAIR_L2_post_20221025T161441_20221025T161511_newl1b.nc\n",
      "\t> Saving checkpoint.\n"
     ]
    },
    {
     "name": "stderr",
     "output_type": "stream",
     "text": [
      "/home/ext_ethan_kyzivat_g_harvard_edu/scripts/msatutil/msatutil/make_spatial_index.py:287: UserWarning: Column names longer than 10 characters will be truncated when saved to ESRI Shapefile.\n",
      "  gdf.to_file(catalogue_shp_out_pth, engine=engine)\n",
      "/home/ext_ethan_kyzivat_g_harvard_edu/Y/envs/geo/lib/python3.11/site-packages/pyogrio/raw.py:530: RuntimeWarning: Normalized/laundered field name: 'production_environment' to 'production'\n",
      "  ogr_write(\n",
      "/home/ext_ethan_kyzivat_g_harvard_edu/Y/envs/geo/lib/python3.11/site-packages/pyogrio/raw.py:530: RuntimeWarning: Normalized/laundered field name: 'flight_date' to 'flight_dat'\n",
      "  ogr_write(\n",
      "/home/ext_ethan_kyzivat_g_harvard_edu/Y/envs/geo/lib/python3.11/site-packages/pyogrio/raw.py:530: RuntimeWarning: Normalized/laundered field name: 'flight_name' to 'flight_nam'\n",
      "  ogr_write(\n",
      "/home/ext_ethan_kyzivat_g_harvard_edu/Y/envs/geo/lib/python3.11/site-packages/pyogrio/raw.py:530: RuntimeWarning: Normalized/laundered field name: 'production_operation' to 'producti_1'\n",
      "  ogr_write(\n",
      "/home/ext_ethan_kyzivat_g_harvard_edu/Y/envs/geo/lib/python3.11/site-packages/pyogrio/raw.py:530: RuntimeWarning: Normalized/laundered field name: 'aggregation' to 'aggregatio'\n",
      "  ogr_write(\n"
     ]
    },
    {
     "name": "stdout",
     "output_type": "stream",
     "text": [
      "[481] gs://msat-prod-data-methaneair-level2/MAIR-E/2022/10/25/RF01E/po-309/level2/5x1/post-processed/level2-results/MethaneAIR_L2_post_20221025T161511_20221025T161541_newl1b.nc\n",
      "[482] gs://msat-prod-data-methaneair-level2/MAIR-E/2022/10/25/RF01E/po-309/level2/5x1/post-processed/level2-results/MethaneAIR_L2_post_20221025T161541_20221025T161611_newl1b.nc\n",
      "[483] gs://msat-prod-data-methaneair-level2/MAIR-E/2022/10/25/RF01E/po-309/level2/5x1/post-processed/level2-results/MethaneAIR_L2_post_20221025T161612_20221025T161642_newl1b.nc\n",
      "\t> Saving checkpoint.\n"
     ]
    },
    {
     "name": "stderr",
     "output_type": "stream",
     "text": [
      "/home/ext_ethan_kyzivat_g_harvard_edu/scripts/msatutil/msatutil/make_spatial_index.py:287: UserWarning: Column names longer than 10 characters will be truncated when saved to ESRI Shapefile.\n",
      "  gdf.to_file(catalogue_shp_out_pth, engine=engine)\n",
      "/home/ext_ethan_kyzivat_g_harvard_edu/Y/envs/geo/lib/python3.11/site-packages/pyogrio/raw.py:530: RuntimeWarning: Normalized/laundered field name: 'production_environment' to 'production'\n",
      "  ogr_write(\n",
      "/home/ext_ethan_kyzivat_g_harvard_edu/Y/envs/geo/lib/python3.11/site-packages/pyogrio/raw.py:530: RuntimeWarning: Normalized/laundered field name: 'flight_date' to 'flight_dat'\n",
      "  ogr_write(\n",
      "/home/ext_ethan_kyzivat_g_harvard_edu/Y/envs/geo/lib/python3.11/site-packages/pyogrio/raw.py:530: RuntimeWarning: Normalized/laundered field name: 'flight_name' to 'flight_nam'\n",
      "  ogr_write(\n",
      "/home/ext_ethan_kyzivat_g_harvard_edu/Y/envs/geo/lib/python3.11/site-packages/pyogrio/raw.py:530: RuntimeWarning: Normalized/laundered field name: 'production_operation' to 'producti_1'\n",
      "  ogr_write(\n",
      "/home/ext_ethan_kyzivat_g_harvard_edu/Y/envs/geo/lib/python3.11/site-packages/pyogrio/raw.py:530: RuntimeWarning: Normalized/laundered field name: 'aggregation' to 'aggregatio'\n",
      "  ogr_write(\n"
     ]
    },
    {
     "name": "stdout",
     "output_type": "stream",
     "text": [
      "[484] gs://msat-prod-data-methaneair-level2/MAIR-E/2022/10/25/RF01E/po-309/level2/5x1/post-processed/level2-results/MethaneAIR_L2_post_20221025T161642_20221025T161712_newl1b.nc\n",
      "[485] gs://msat-prod-data-methaneair-level2/MAIR-E/2022/10/25/RF01E/po-309/level2/5x1/post-processed/level2-results/MethaneAIR_L2_post_20221025T161712_20221025T161742_newl1b.nc\n",
      "[486] gs://msat-prod-data-methaneair-level2/MAIR-E/2022/10/25/RF01E/po-309/level2/5x1/post-processed/level2-results/MethaneAIR_L2_post_20221025T161742_20221025T161812_newl1b.nc\n",
      "\t> Saving checkpoint.\n"
     ]
    },
    {
     "name": "stderr",
     "output_type": "stream",
     "text": [
      "/home/ext_ethan_kyzivat_g_harvard_edu/scripts/msatutil/msatutil/make_spatial_index.py:287: UserWarning: Column names longer than 10 characters will be truncated when saved to ESRI Shapefile.\n",
      "  gdf.to_file(catalogue_shp_out_pth, engine=engine)\n",
      "/home/ext_ethan_kyzivat_g_harvard_edu/Y/envs/geo/lib/python3.11/site-packages/pyogrio/raw.py:530: RuntimeWarning: Normalized/laundered field name: 'production_environment' to 'production'\n",
      "  ogr_write(\n",
      "/home/ext_ethan_kyzivat_g_harvard_edu/Y/envs/geo/lib/python3.11/site-packages/pyogrio/raw.py:530: RuntimeWarning: Normalized/laundered field name: 'flight_date' to 'flight_dat'\n",
      "  ogr_write(\n",
      "/home/ext_ethan_kyzivat_g_harvard_edu/Y/envs/geo/lib/python3.11/site-packages/pyogrio/raw.py:530: RuntimeWarning: Normalized/laundered field name: 'flight_name' to 'flight_nam'\n",
      "  ogr_write(\n",
      "/home/ext_ethan_kyzivat_g_harvard_edu/Y/envs/geo/lib/python3.11/site-packages/pyogrio/raw.py:530: RuntimeWarning: Normalized/laundered field name: 'production_operation' to 'producti_1'\n",
      "  ogr_write(\n",
      "/home/ext_ethan_kyzivat_g_harvard_edu/Y/envs/geo/lib/python3.11/site-packages/pyogrio/raw.py:530: RuntimeWarning: Normalized/laundered field name: 'aggregation' to 'aggregatio'\n",
      "  ogr_write(\n"
     ]
    },
    {
     "name": "stdout",
     "output_type": "stream",
     "text": [
      "[487] gs://msat-prod-data-methaneair-level2/MAIR-E/2022/10/25/RF01E/po-309/level2/5x1/post-processed/level2-results/MethaneAIR_L2_post_20221025T161913_20221025T161943_newl1b.nc\n",
      "[488] gs://msat-prod-data-methaneair-level2/MAIR-E/2022/10/25/RF01E/po-309/level2/5x1/post-processed/level2-results/MethaneAIR_L2_post_20221025T161943_20221025T162013_newl1b.nc\n",
      "[489] gs://msat-prod-data-methaneair-level2/MAIR-E/2022/10/25/RF01E/po-309/level2/5x1/post-processed/level2-results/MethaneAIR_L2_post_20221025T162013_20221025T162043_newl1b.nc\n",
      "\t> Saving checkpoint.\n"
     ]
    },
    {
     "name": "stderr",
     "output_type": "stream",
     "text": [
      "/home/ext_ethan_kyzivat_g_harvard_edu/scripts/msatutil/msatutil/make_spatial_index.py:287: UserWarning: Column names longer than 10 characters will be truncated when saved to ESRI Shapefile.\n",
      "  gdf.to_file(catalogue_shp_out_pth, engine=engine)\n",
      "/home/ext_ethan_kyzivat_g_harvard_edu/Y/envs/geo/lib/python3.11/site-packages/pyogrio/raw.py:530: RuntimeWarning: Normalized/laundered field name: 'production_environment' to 'production'\n",
      "  ogr_write(\n",
      "/home/ext_ethan_kyzivat_g_harvard_edu/Y/envs/geo/lib/python3.11/site-packages/pyogrio/raw.py:530: RuntimeWarning: Normalized/laundered field name: 'flight_date' to 'flight_dat'\n",
      "  ogr_write(\n",
      "/home/ext_ethan_kyzivat_g_harvard_edu/Y/envs/geo/lib/python3.11/site-packages/pyogrio/raw.py:530: RuntimeWarning: Normalized/laundered field name: 'flight_name' to 'flight_nam'\n",
      "  ogr_write(\n",
      "/home/ext_ethan_kyzivat_g_harvard_edu/Y/envs/geo/lib/python3.11/site-packages/pyogrio/raw.py:530: RuntimeWarning: Normalized/laundered field name: 'production_operation' to 'producti_1'\n",
      "  ogr_write(\n",
      "/home/ext_ethan_kyzivat_g_harvard_edu/Y/envs/geo/lib/python3.11/site-packages/pyogrio/raw.py:530: RuntimeWarning: Normalized/laundered field name: 'aggregation' to 'aggregatio'\n",
      "  ogr_write(\n"
     ]
    },
    {
     "name": "stdout",
     "output_type": "stream",
     "text": [
      "[490] gs://msat-prod-data-methaneair-level2/MAIR-E/2022/10/25/RF01E/po-309/level2/5x1/post-processed/level2-results/MethaneAIR_L2_post_20221025T162043_20221025T162113_newl1b.nc\n",
      "[491] gs://msat-prod-data-methaneair-level2/MAIR-E/2022/10/25/RF01E/po-309/level2/5x1/post-processed/level2-results/MethaneAIR_L2_post_20221025T162113_20221025T162143_newl1b.nc\n",
      "[492] gs://msat-prod-data-methaneair-level2/MAIR-E/2022/10/25/RF01E/po-309/level2/5x1/post-processed/level2-results/MethaneAIR_L2_post_20221025T162143_20221025T162213_newl1b.nc\n",
      "\t> Saving checkpoint.\n"
     ]
    },
    {
     "name": "stderr",
     "output_type": "stream",
     "text": [
      "/home/ext_ethan_kyzivat_g_harvard_edu/scripts/msatutil/msatutil/make_spatial_index.py:287: UserWarning: Column names longer than 10 characters will be truncated when saved to ESRI Shapefile.\n",
      "  gdf.to_file(catalogue_shp_out_pth, engine=engine)\n",
      "/home/ext_ethan_kyzivat_g_harvard_edu/Y/envs/geo/lib/python3.11/site-packages/pyogrio/raw.py:530: RuntimeWarning: Normalized/laundered field name: 'production_environment' to 'production'\n",
      "  ogr_write(\n",
      "/home/ext_ethan_kyzivat_g_harvard_edu/Y/envs/geo/lib/python3.11/site-packages/pyogrio/raw.py:530: RuntimeWarning: Normalized/laundered field name: 'flight_date' to 'flight_dat'\n",
      "  ogr_write(\n",
      "/home/ext_ethan_kyzivat_g_harvard_edu/Y/envs/geo/lib/python3.11/site-packages/pyogrio/raw.py:530: RuntimeWarning: Normalized/laundered field name: 'flight_name' to 'flight_nam'\n",
      "  ogr_write(\n",
      "/home/ext_ethan_kyzivat_g_harvard_edu/Y/envs/geo/lib/python3.11/site-packages/pyogrio/raw.py:530: RuntimeWarning: Normalized/laundered field name: 'production_operation' to 'producti_1'\n",
      "  ogr_write(\n",
      "/home/ext_ethan_kyzivat_g_harvard_edu/Y/envs/geo/lib/python3.11/site-packages/pyogrio/raw.py:530: RuntimeWarning: Normalized/laundered field name: 'aggregation' to 'aggregatio'\n",
      "  ogr_write(\n"
     ]
    },
    {
     "name": "stdout",
     "output_type": "stream",
     "text": [
      "[493] gs://msat-prod-data-methaneair-level2/MAIR-E/2022/10/25/RF01E/po-309/level2/5x1/post-processed/level2-results/MethaneAIR_L2_post_20221025T162214_20221025T162244_newl1b.nc\n",
      "[494] gs://msat-prod-data-methaneair-level2/MAIR-E/2022/10/25/RF01E/po-309/level2/5x1/post-processed/level2-results/MethaneAIR_L2_post_20221025T162244_20221025T162314_newl1b.nc\n",
      "[495] gs://msat-prod-data-methaneair-level2/MAIR-E/2022/10/25/RF01E/po-309/level2/5x1/post-processed/level2-results/MethaneAIR_L2_post_20221025T162314_20221025T162344_newl1b.nc\n",
      "File saved to ~/msat_spatial_idx/L2_pp_tol0.01.shp and ~/msat_spatial_idx/L2_pp_tol0.01.geojson\n"
     ]
    }
   ],
   "source": [
    "out_pth_shp, out_pth_geojson = save_geojson(\n",
    "    L3_mosaics_catalogue_pth, working_dir, load_from_chkpt, simplify_tol, save_frequency, out_path, l2_data)\n",
    "print(f'File saved to {out_pth_shp} and {out_pth_geojson}')"
   ]
  },
  {
   "cell_type": "markdown",
   "metadata": {},
   "source": [
    "Demo command-line interface"
   ]
  },
  {
   "cell_type": "code",
   "execution_count": 41,
   "metadata": {},
   "outputs": [
    {
     "name": "stdout",
     "output_type": "stream",
     "text": [
      "[0] gs://msat-prod-data-methaneair-level2/MAIR-E/2022/10/25/RF01E/cr1-cr6/level2/5x1/post-processed/level2-results/MethaneAIR_L2_post_20221025T164714_20221025T164744_20230306T204604.nc\n",
      "NetCDF: Attribute not found\n"
     ]
    }
   ],
   "source": [
    "!python ../msatutil/make_spatial_index.py -c {L3_mosaics_catalogue_pth} -w {working_dir} -o {out_path}"
   ]
  },
  {
   "cell_type": "markdown",
   "metadata": {},
   "source": [
    "Save outputs to shared drive"
   ]
  },
  {
   "cell_type": "code",
   "execution_count": null,
   "metadata": {},
   "outputs": [],
   "source": [
    "!sudo cp ~/msat_spatial_idx/L3_mosaics* /mnt/share1/mair_spatial_idx"
   ]
  },
  {
   "cell_type": "markdown",
   "metadata": {},
   "source": [
    "Save outputs to cloud (careful of overwriting)"
   ]
  },
  {
   "cell_type": "code",
   "execution_count": 27,
   "metadata": {},
   "outputs": [
    {
     "data": {
      "text/plain": [
       "'~/msat_spatial_idx/L2_pp_tol0.01'"
      ]
     },
     "execution_count": 27,
     "metadata": {},
     "output_type": "execute_result"
    }
   ],
   "source": [
    "basename = os.path.splitext(out_pth_shp)[0]\n",
    "basename\n"
   ]
  },
  {
   "cell_type": "code",
   "execution_count": 30,
   "metadata": {},
   "outputs": [
    {
     "name": "stdout",
     "output_type": "stream",
     "text": [
      "Copying file:///home/ext_ethan_kyzivat_g_harvard_edu/msat_spatial_idx/L2_pp_tol0.01.cpg [Content-Type=application/octet-stream]...\n",
      "Copying file:///home/ext_ethan_kyzivat_g_harvard_edu/msat_spatial_idx/L2_pp_tol0.01.dbf [Content-Type=application/vnd.dbf]...\n",
      "Copying file:///home/ext_ethan_kyzivat_g_harvard_edu/msat_spatial_idx/L2_pp_tol0.01.geojson [Content-Type=application/geo+json]...\n",
      "Copying file:///home/ext_ethan_kyzivat_g_harvard_edu/msat_spatial_idx/L2_pp_tol0.01.prj [Content-Type=application/octet-stream]...\n",
      "Copying file:///home/ext_ethan_kyzivat_g_harvard_edu/msat_spatial_idx/L2_pp_tol0.01.shp [Content-Type=application/x-qgis]...\n",
      "Copying file:///home/ext_ethan_kyzivat_g_harvard_edu/msat_spatial_idx/L2_pp_tol0.01.shx [Content-Type=application/x-qgis]...\n",
      "- [6/6 files][113.9 MiB/113.9 MiB] 100% Done                                    \n",
      "Operation completed over 6 objects/113.9 MiB.                                    \n"
     ]
    }
   ],
   "source": [
    "!gsutil -m cp {basename}** gs://msat-dev-science-data/MAIR_spatial_index/"
   ]
  }
 ],
 "metadata": {
  "kernelspec": {
   "display_name": "geo",
   "language": "python",
   "name": "python3"
  },
  "language_info": {
   "codemirror_mode": {
    "name": "ipython",
    "version": 3
   },
   "file_extension": ".py",
   "mimetype": "text/x-python",
   "name": "python",
   "nbconvert_exporter": "python",
   "pygments_lexer": "ipython3",
   "version": "3.11.8"
  }
 },
 "nbformat": 4,
 "nbformat_minor": 2
}
