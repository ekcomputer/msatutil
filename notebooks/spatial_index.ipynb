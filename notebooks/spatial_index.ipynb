{
 "cells": [
  {
   "cell_type": "code",
   "execution_count": 1,
   "metadata": {},
   "outputs": [],
   "source": [
    "from msatutil.make_spatial_index import save_geojson"
   ]
  },
  {
   "cell_type": "markdown",
   "metadata": {},
   "source": [
    "## Arguments"
   ]
  },
  {
   "cell_type": "code",
   "execution_count": 2,
   "metadata": {},
   "outputs": [],
   "source": [
    "L3_mosaics_catalogue_pth = 'gs://msat-dev-science-data/L3_mosaics.csv'\n",
    "load_from_chkpt = True\n",
    "simplify_tol = None\n",
    "working_dir = '/Volumes/metis/MAIR/Spatial_catalogue'  # '~/msat_spatial_idx'\n",
    "save_frequency = 3 # for testingload_from_chkpt=True\n",
    "out_path = 'test_march_19'\n"
   ]
  },
  {
   "cell_type": "markdown",
   "metadata": {},
   "source": [
    "Demo calling the function in python"
   ]
  },
  {
   "cell_type": "code",
   "execution_count": 3,
   "metadata": {},
   "outputs": [
    {
     "name": "stdout",
     "output_type": "stream",
     "text": [
      "Geometry exists for 20231103T174543_po-483a/01_Four-Corners-PP/10m/MethaneAIR_L3_mosaic_20221025T160940_20221025T161511_dpp.nc\n",
      "Geometry exists for 20231103T174543_po-483a/01_Four-Corners-PP/30m/MethaneAIR_L3_mosaic_20221025T160940_20221025T161511_dpp.nc\n",
      "Geometry exists for 20231103T174543_po-483a/02_Cholla-PP/10m/MethaneAIR_L3_mosaic_20221025T162846_20221025T163718_dpp.nc\n",
      "Geometry exists for 20231103T174543_po-483a/02_Cholla-PP/30m/MethaneAIR_L3_mosaic_20221025T162846_20221025T163718_dpp.nc\n",
      "[4] 20231103T174543_po-483a/03_inbound-map/10m/MethaneAIR_L3_mosaic_20221025T163648_20221025T164513_dpp.nc\n",
      "[5] 20231103T174543_po-483a/03_inbound-map/30m/MethaneAIR_L3_mosaic_20221025T163648_20221025T164513_dpp.nc\n",
      "[6] 20231103T174543_po-483a/04_priority-target/10m/MethaneAIR_L3_mosaic_20221025T164443_20221025T201249_dpp.nc\n"
     ]
    }
   ],
   "source": [
    "out_pth_shp, out_pth_geojson = save_geojson(\n",
    "    L3_mosaics_catalogue_pth, working_dir, load_from_chkpt, simplify_tol, save_frequency, out_path)"
   ]
  },
  {
   "cell_type": "markdown",
   "metadata": {},
   "source": [
    "Demo command-line interface"
   ]
  },
  {
   "cell_type": "code",
   "execution_count": 9,
   "metadata": {},
   "outputs": [
    {
     "name": "stdout",
     "output_type": "stream",
     "text": [
      "Geometry exists for 20231103T174543_po-483a/01_Four-Corners-PP/10m/MethaneAIR_L3_mosaic_20221025T160940_20221025T161511_dpp.nc\n",
      "Geometry exists for 20231103T174543_po-483a/01_Four-Corners-PP/30m/MethaneAIR_L3_mosaic_20221025T160940_20221025T161511_dpp.nc\n",
      "Geometry exists for 20231103T174543_po-483a/02_Cholla-PP/10m/MethaneAIR_L3_mosaic_20221025T162846_20221025T163718_dpp.nc\n",
      "Geometry exists for 20231103T174543_po-483a/02_Cholla-PP/30m/MethaneAIR_L3_mosaic_20221025T162846_20221025T163718_dpp.nc\n",
      "[4] 20231103T174543_po-483a/03_inbound-map/10m/MethaneAIR_L3_mosaic_20221025T163648_20221025T164513_dpp.nc\n",
      "/Users/ekyzivat/mambaforge/envs/geo/lib/python3.11/site-packages/google/auth/_default.py:76: UserWarning: Your application has authenticated using end user credentials from Google Cloud SDK without a quota project. You might receive a \"quota exceeded\" or \"API not enabled\" error. See the following page for troubleshooting: https://cloud.google.com/docs/authentication/adc-troubleshooting/user-creds. \n",
      "  warnings.warn(_CLOUD_SDK_CREDENTIALS_WARNING)\n",
      "[5] 20231103T174543_po-483a/03_inbound-map/30m/MethaneAIR_L3_mosaic_20221025T163648_20221025T164513_dpp.nc\n",
      "/Users/ekyzivat/mambaforge/envs/geo/lib/python3.11/site-packages/google/auth/_default.py:76: UserWarning: Your application has authenticated using end user credentials from Google Cloud SDK without a quota project. You might receive a \"quota exceeded\" or \"API not enabled\" error. See the following page for troubleshooting: https://cloud.google.com/docs/authentication/adc-troubleshooting/user-creds. \n",
      "  warnings.warn(_CLOUD_SDK_CREDENTIALS_WARNING)\n",
      "[6] 20231103T174543_po-483a/04_priority-target/10m/MethaneAIR_L3_mosaic_20221025T164443_20221025T201249_dpp.nc\n",
      "/Users/ekyzivat/mambaforge/envs/geo/lib/python3.11/site-packages/google/auth/_default.py:76: UserWarning: Your application has authenticated using end user credentials from Google Cloud SDK without a quota project. You might receive a \"quota exceeded\" or \"API not enabled\" error. See the following page for troubleshooting: https://cloud.google.com/docs/authentication/adc-troubleshooting/user-creds. \n",
      "  warnings.warn(_CLOUD_SDK_CREDENTIALS_WARNING)\n",
      "^C\n"
     ]
    }
   ],
   "source": [
    "!python ../msatutil/make_spatial_index.py -c {L3_mosaics_catalogue_pth} -w {working_dir} -o {out_path}"
   ]
  },
  {
   "cell_type": "markdown",
   "metadata": {},
   "source": [
    "Save outputs to cloud"
   ]
  },
  {
   "cell_type": "code",
   "execution_count": 8,
   "metadata": {},
   "outputs": [
    {
     "name": "stdout",
     "output_type": "stream",
     "text": [
      "Copying file:///Volumes/metis/MAIR/Spatial_catalogue/test_march_19.shp [Content-Type=application/octet-stream]...\n",
      "/ [1 files][747.1 KiB/747.1 KiB]                                                \n",
      "Operation completed over 1 objects/747.1 KiB.                                    \n"
     ]
    }
   ],
   "source": [
    "!gsutil cp {out_pth_geojson} gs://msat-dev-science-data/MAIR_spatial_index"
   ]
  }
 ],
 "metadata": {
  "kernelspec": {
   "display_name": "geo",
   "language": "python",
   "name": "python3"
  },
  "language_info": {
   "codemirror_mode": {
    "name": "ipython",
    "version": 3
   },
   "file_extension": ".py",
   "mimetype": "text/x-python",
   "name": "python",
   "nbconvert_exporter": "python",
   "pygments_lexer": "ipython3",
   "version": "3.11.5"
  }
 },
 "nbformat": 4,
 "nbformat_minor": 2
}
